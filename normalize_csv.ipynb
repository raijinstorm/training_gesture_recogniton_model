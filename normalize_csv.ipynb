{
 "cells": [
  {
   "cell_type": "code",
   "execution_count": 1,
   "metadata": {},
   "outputs": [
    {
     "name": "stdout",
     "output_type": "stream",
     "text": [
      "Class counts:\n",
      "0\n",
      "2     425\n",
      "0     302\n",
      "4     268\n",
      "3     249\n",
      "6     231\n",
      "11    225\n",
      "7     178\n",
      "12    174\n",
      "1     167\n",
      "10    160\n",
      "8     134\n",
      "5     111\n",
      "9      88\n",
      "Name: count, dtype: int64\n",
      "Minimum: 88, Maximum: 425, Mean: 209\n",
      "Saved undersampled data to 'normalized_cut.csv'\n"
     ]
    },
    {
     "name": "stderr",
     "output_type": "stream",
     "text": [
      "C:\\Users\\hello\\AppData\\Local\\Temp\\ipykernel_11012\\3900679881.py:27: DeprecationWarning: DataFrameGroupBy.apply operated on the grouping columns. This behavior is deprecated, and in a future version of pandas the grouping columns will be excluded from the operation. Either pass `include_groups=False` to exclude the groupings or explicitly select the grouping columns after groupby to silence this warning.\n",
      "  .apply(lambda x: x.sample(n=min_count, random_state=42))\n",
      "C:\\Users\\hello\\AppData\\Local\\Temp\\ipykernel_11012\\3900679881.py:36: DeprecationWarning: DataFrameGroupBy.apply operated on the grouping columns. This behavior is deprecated, and in a future version of pandas the grouping columns will be excluded from the operation. Either pass `include_groups=False` to exclude the groupings or explicitly select the grouping columns after groupby to silence this warning.\n",
      "  .apply(lambda x: x.sample(n=max_count, replace=True, random_state=42))\n"
     ]
    },
    {
     "name": "stdout",
     "output_type": "stream",
     "text": [
      "Saved oversampled data to 'normalized_upscale.csv'\n",
      "Saved mean-normalized data to 'normalized_mean.csv'\n"
     ]
    },
    {
     "name": "stderr",
     "output_type": "stream",
     "text": [
      "C:\\Users\\hello\\AppData\\Local\\Temp\\ipykernel_11012\\3900679881.py:45: DeprecationWarning: DataFrameGroupBy.apply operated on the grouping columns. This behavior is deprecated, and in a future version of pandas the grouping columns will be excluded from the operation. Either pass `include_groups=False` to exclude the groupings or explicitly select the grouping columns after groupby to silence this warning.\n",
      "  .apply(lambda x: x.sample(n=mean_count, replace=(len(x) < mean_count), random_state=42))\n"
     ]
    }
   ],
   "source": [
    "import pandas as pd\n",
    "import numpy as np\n",
    "\n",
    "# Parameters\n",
    "input_csv = \"train_keypoints.csv\"  # Input CSV file\n",
    "label_column_index = 0  # Index of the label column\n",
    "\n",
    "# Read the dataset without header\n",
    "df = pd.read_csv(input_csv, header=None)\n",
    "\n",
    "# Use the first column as the label\n",
    "label_col = df.columns[label_column_index]\n",
    "\n",
    "# Count the samples in each class\n",
    "group_counts = df[label_col].value_counts()\n",
    "min_count = group_counts.min()\n",
    "max_count = group_counts.max()\n",
    "mean_count = int(round(group_counts.mean()))\n",
    "\n",
    "print(\"Class counts:\")\n",
    "print(group_counts)\n",
    "print(f\"Minimum: {min_count}, Maximum: {max_count}, Mean: {mean_count}\")\n",
    "\n",
    "# 1. Undersampling\n",
    "undersampled = (\n",
    "    df.groupby(label_col, group_keys=False)\n",
    "    .apply(lambda x: x.sample(n=min_count, random_state=42))\n",
    "    .reset_index(drop=True)\n",
    ")\n",
    "undersampled.to_csv(\"normalized_cut_names.csv\", index=False, header=False)\n",
    "print(\"Saved undersampled data to 'normalized_cut.csv'\")\n",
    "\n",
    "# 2. Oversampling\n",
    "oversampled = (\n",
    "    df.groupby(label_col, group_keys=False)\n",
    "    .apply(lambda x: x.sample(n=max_count, replace=True, random_state=42))\n",
    "    .reset_index(drop=True)\n",
    ")\n",
    "oversampled.to_csv(\"normalized_upscale_names.csv\", index=False, header=False)\n",
    "print(\"Saved oversampled data to 'normalized_upscale.csv'\")\n",
    "\n",
    "# 3. Mean sampling (middle ground)\n",
    "mean_sampled = (\n",
    "    df.groupby(label_col, group_keys=False)\n",
    "    .apply(lambda x: x.sample(n=mean_count, replace=(len(x) < mean_count), random_state=42))\n",
    "    .reset_index(drop=True)\n",
    ")\n",
    "mean_sampled.to_csv(\"normalized_mean_names.csv\", index=False, header=False)\n",
    "print(\"Saved mean-normalized data to 'normalized_mean.csv'\")\n"
   ]
  },
  {
   "cell_type": "code",
   "execution_count": null,
   "metadata": {},
   "outputs": [],
   "source": []
  }
 ],
 "metadata": {
  "kernelspec": {
   "display_name": ".venv",
   "language": "python",
   "name": "python3"
  },
  "language_info": {
   "codemirror_mode": {
    "name": "ipython",
    "version": 3
   },
   "file_extension": ".py",
   "mimetype": "text/x-python",
   "name": "python",
   "nbconvert_exporter": "python",
   "pygments_lexer": "ipython3",
   "version": "3.10.11"
  }
 },
 "nbformat": 4,
 "nbformat_minor": 2
}
