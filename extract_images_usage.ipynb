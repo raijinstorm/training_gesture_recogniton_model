{
 "cells": [
  {
   "cell_type": "code",
   "execution_count": null,
   "id": "6f4d87ca",
   "metadata": {},
   "outputs": [],
   "source": [
    "from extract_images import extract_and_filter_images\n",
    "import os"
   ]
  },
  {
   "cell_type": "code",
   "execution_count": null,
   "id": "7248688b",
   "metadata": {},
   "outputs": [],
   "source": [
    "dest_folder = \"cleaned_test_videos\"\n",
    "source_folder = os.path.join(dest_folder, \"cleaned_videos\")\n",
    "dest_folder = \"extrated_test_images\"\n",
    "extract_and_filter_images(source_folder, dest_folder, blurry_threshold=15, dark_threshold=60, check_hand_flag=False, write_images=True)"
   ]
  },
  {
   "cell_type": "code",
   "execution_count": null,
   "id": "1ed41fc9",
   "metadata": {},
   "outputs": [],
   "source": []
  }
 ],
 "metadata": {
  "kernelspec": {
   "display_name": ".venv",
   "language": "python",
   "name": "python3"
  },
  "language_info": {
   "codemirror_mode": {
    "name": "ipython",
    "version": 3
   },
   "file_extension": ".py",
   "mimetype": "text/x-python",
   "name": "python",
   "nbconvert_exporter": "python",
   "pygments_lexer": "ipython3",
   "version": "3.10.11"
  }
 },
 "nbformat": 4,
 "nbformat_minor": 5
}
