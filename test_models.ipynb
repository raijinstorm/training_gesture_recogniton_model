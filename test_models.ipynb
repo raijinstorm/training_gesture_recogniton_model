{
 "cells": [
  {
   "cell_type": "code",
   "execution_count": 1,
   "metadata": {},
   "outputs": [],
   "source": [
    "import train_evaluate_models_new"
   ]
  },
  {
   "cell_type": "code",
   "execution_count": null,
   "metadata": {},
   "outputs": [],
   "source": [
    "# # Replace with your actual CSV dataset path\n",
    "# num_classes = 14\n",
    "# datesets = [\n",
    "#     \"keypoint.csv\",\n",
    "#     \"normalized_cut.csv\",\n",
    "#     \"normalized_upscale.csv\",\n",
    "#     \"normalized_mean.csv\"\n",
    "# ]\n",
    "\n",
    "# num_classes = 4\n",
    "# dataset_path = \"keypoint_test.csv\""
   ]
  },
  {
   "cell_type": "code",
   "execution_count": 2,
   "metadata": {},
   "outputs": [],
   "source": [
    "train_datasets = [\n",
    "    \"train_keypoints.csv\",\n",
    "    \"normalized_cut_train.csv\",\n",
    "    \"normalized_upscale_train.csv\",\n",
    "    \"normalized_mean_train.csv\"\n",
    "]\n",
    "\n",
    "train_path =  train_datasets[0]\n",
    "test_path= \"test_keypoints.csv\"\n",
    "num_classes = 14"
   ]
  },
  {
   "cell_type": "markdown",
   "metadata": {},
   "source": [
    "### SVM"
   ]
  },
  {
   "cell_type": "code",
   "execution_count": 3,
   "metadata": {},
   "outputs": [
    {
     "name": "stdout",
     "output_type": "stream",
     "text": [
      "Training accuracy: 0.782448377581121, Test accuracy: 0.7412698412698413\n"
     ]
    },
    {
     "name": "stderr",
     "output_type": "stream",
     "text": [
      "d:\\Projects\\fit_project\\.venv\\lib\\site-packages\\sklearn\\metrics\\_classification.py:1565: UndefinedMetricWarning: Precision is ill-defined and being set to 0.0 in labels with no predicted samples. Use `zero_division` parameter to control this behavior.\n",
      "  _warn_prf(average, modifier, f\"{metric.capitalize()} is\", len(result))\n",
      "d:\\Projects\\fit_project\\.venv\\lib\\site-packages\\sklearn\\metrics\\_classification.py:1565: UndefinedMetricWarning: Precision is ill-defined and being set to 0.0 in labels with no predicted samples. Use `zero_division` parameter to control this behavior.\n",
      "  _warn_prf(average, modifier, f\"{metric.capitalize()} is\", len(result))\n",
      "d:\\Projects\\fit_project\\.venv\\lib\\site-packages\\sklearn\\metrics\\_classification.py:1565: UndefinedMetricWarning: Precision is ill-defined and being set to 0.0 in labels with no predicted samples. Use `zero_division` parameter to control this behavior.\n",
      "  _warn_prf(average, modifier, f\"{metric.capitalize()} is\", len(result))\n"
     ]
    },
    {
     "name": "stdout",
     "output_type": "stream",
     "text": [
      "Training accuracy: 0.5741150442477876, Test accuracy: 0.4301587301587302\n"
     ]
    },
    {
     "name": "stderr",
     "output_type": "stream",
     "text": [
      "d:\\Projects\\fit_project\\.venv\\lib\\site-packages\\sklearn\\metrics\\_classification.py:1565: UndefinedMetricWarning: Precision is ill-defined and being set to 0.0 in labels with no predicted samples. Use `zero_division` parameter to control this behavior.\n",
      "  _warn_prf(average, modifier, f\"{metric.capitalize()} is\", len(result))\n",
      "d:\\Projects\\fit_project\\.venv\\lib\\site-packages\\sklearn\\metrics\\_classification.py:1565: UndefinedMetricWarning: Precision is ill-defined and being set to 0.0 in labels with no predicted samples. Use `zero_division` parameter to control this behavior.\n",
      "  _warn_prf(average, modifier, f\"{metric.capitalize()} is\", len(result))\n",
      "d:\\Projects\\fit_project\\.venv\\lib\\site-packages\\sklearn\\metrics\\_classification.py:1565: UndefinedMetricWarning: Precision is ill-defined and being set to 0.0 in labels with no predicted samples. Use `zero_division` parameter to control this behavior.\n",
      "  _warn_prf(average, modifier, f\"{metric.capitalize()} is\", len(result))\n"
     ]
    },
    {
     "name": "stdout",
     "output_type": "stream",
     "text": [
      "Training accuracy: 0.926622418879056, Test accuracy: 0.9\n",
      "Training accuracy: 0.926622418879056, Test accuracy: 0.9\n",
      "Training accuracy: 0.9575958702064897, Test accuracy: 0.9238095238095239\n",
      "Training accuracy: 0.8938053097345132, Test accuracy: 0.8825396825396825\n",
      "Training accuracy: 0.9546460176991151, Test accuracy: 0.8968253968253969\n",
      "Training accuracy: 0.9546460176991151, Test accuracy: 0.8968253968253969\n",
      "Training accuracy: 0.9885693215339233, Test accuracy: 0.926984126984127\n",
      "Training accuracy: 0.959070796460177, Test accuracy: 0.9158730158730158\n",
      "Training accuracy: 0.9845132743362832, Test accuracy: 0.9015873015873016\n",
      "Training accuracy: 0.9845132743362832, Test accuracy: 0.9015873015873016\n"
     ]
    }
   ],
   "source": [
    "model_save_path_svm = \"svm_model.joblib\"\n",
    "\n",
    "# C_values = [10.0]\n",
    "# kernels = [\"rbf\"]\n",
    "# gammas = [\"scale\"]\n",
    "# random_seed = 42\n",
    "\n",
    "C_values = [0.1, 1.0, 10.0]\n",
    "kernels = [\"rbf\", \"linear\"]\n",
    "gammas = [\"scale\", \"auto\"]\n",
    "random_seed = 42\n",
    "\n",
    "for C in C_values:\n",
    "    for kernel in kernels:\n",
    "        for gamma in gammas:\n",
    "            params = {\n",
    "                    \"C\": C,\n",
    "                    \"kernel\": kernel,\n",
    "                    \"gamma\": gamma,\n",
    "                    \"random_seed\": random_seed\n",
    "                }\n",
    "            results = train_evaluate_models_new.model_svm(train_path, test_path, model_save_path_svm, num_classes, params)"
   ]
  },
  {
   "cell_type": "markdown",
   "metadata": {},
   "source": []
  },
  {
   "cell_type": "markdown",
   "metadata": {},
   "source": [
    "### Random forest"
   ]
  },
  {
   "cell_type": "code",
   "execution_count": 3,
   "metadata": {},
   "outputs": [
    {
     "name": "stdout",
     "output_type": "stream",
     "text": [
      "Training accuracy: 0.9966814159292036, Test accuracy: 0.8809523809523809\n",
      "Training accuracy: 0.9893067846607669, Test accuracy: 0.8888888888888888\n",
      "Training accuracy: 0.9966814159292036, Test accuracy: 0.8809523809523809\n",
      "Training accuracy: 1.0, Test accuracy: 0.9206349206349206\n",
      "Training accuracy: 0.9977876106194691, Test accuracy: 0.9126984126984127\n",
      "Training accuracy: 1.0, Test accuracy: 0.9206349206349206\n",
      "Training accuracy: 1.0, Test accuracy: 0.9174603174603174\n",
      "Training accuracy: 0.9970501474926253, Test accuracy: 0.9126984126984127\n",
      "Training accuracy: 1.0, Test accuracy: 0.9174603174603174\n",
      "Training accuracy: 1.0, Test accuracy: 0.9206349206349206\n",
      "Training accuracy: 0.9970501474926253, Test accuracy: 0.9158730158730158\n",
      "Training accuracy: 1.0, Test accuracy: 0.9206349206349206\n"
     ]
    }
   ],
   "source": [
    "model_save_path_rf = \"random_forest_model.joblib\"\n",
    "\n",
    "# n_estimators_list = [200]\n",
    "# max_depth_list = [20]\n",
    "# random_seed = 42\n",
    "\n",
    "# Hyperparameter grid to try\n",
    "n_estimators_list = [5, 50, 100, 200]\n",
    "max_depth_list = [None, 10, 20]\n",
    "random_seed = 42\n",
    "\n",
    "\n",
    "# Try all combinations of parameters\n",
    "for n_estimators in n_estimators_list:\n",
    "    for max_depth in max_depth_list:\n",
    "            # Define parameter dictionary\n",
    "        params = {\n",
    "                \"n_estimators\": n_estimators,\n",
    "                \"max_depth\": max_depth,\n",
    "                \"random_seed\": random_seed\n",
    "        }\n",
    "        \n",
    "        results = train_evaluate_models_new.model_rf(train_path, test_path, model_save_path_rf, num_classes, params)"
   ]
  },
  {
   "cell_type": "markdown",
   "metadata": {},
   "source": [
    "### Neural Network"
   ]
  },
  {
   "cell_type": "code",
   "execution_count": null,
   "metadata": {},
   "outputs": [],
   "source": [
    "model_save_path_nn = 'keypoint_classifier.hdf5'\n",
    "\n",
    "# Define hyperparameters\n",
    "params = {\n",
    "        \"dropout1\": 0.2,\n",
    "        \"dropout2\": 0.4,\n",
    "        \"dense_units1\": 40,\n",
    "        \"dense_units2\": 25,\n",
    "        \"epochs\": 1000,\n",
    "        \"batch_size\": 128,\n",
    "        \"random_seed\": 42\n",
    "    }\n",
    "    \n",
    "    # Train the model and save results\n",
    "train_evaluate_models.model_nn(dataset_path, model_save_path_nn, num_classes, params)"
   ]
  },
  {
   "cell_type": "code",
   "execution_count": null,
   "metadata": {},
   "outputs": [],
   "source": []
  }
 ],
 "metadata": {
  "kernelspec": {
   "display_name": ".venv",
   "language": "python",
   "name": "python3"
  },
  "language_info": {
   "codemirror_mode": {
    "name": "ipython",
    "version": 3
   },
   "file_extension": ".py",
   "mimetype": "text/x-python",
   "name": "python",
   "nbconvert_exporter": "python",
   "pygments_lexer": "ipython3",
   "version": "3.10.11"
  }
 },
 "nbformat": 4,
 "nbformat_minor": 2
}
