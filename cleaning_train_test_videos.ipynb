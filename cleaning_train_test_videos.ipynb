{
 "cells": [
  {
   "cell_type": "code",
   "execution_count": null,
   "metadata": {},
   "outputs": [],
   "source": [
    "from clean_videos import get_cleaned_videos, get_cleaned_csv\n",
    "import os"
   ]
  },
  {
   "cell_type": "code",
   "execution_count": 3,
   "metadata": {},
   "outputs": [
    {
     "name": "stdout",
     "output_type": "stream",
     "text": [
      "Metadata for 69 videos saved to clenaed_test_videos\\vids.csv\n",
      "             fps  frame_count       width      height  duration_sec\n",
      "count  69.000000    69.000000   69.000000   69.000000     69.000000\n",
      "mean   29.767112   149.072464  621.449275  498.550725      5.007595\n",
      "std     1.812063     9.473366   51.600141   51.600141      0.084888\n",
      "min    14.985015    74.000000  480.000000  480.000000      4.933000\n",
      "25%    29.916667   150.000000  640.000000  480.000000      4.983333\n",
      "50%    30.000000   150.000000  640.000000  480.000000      5.000000\n",
      "75%    30.000000   150.000000  640.000000  480.000000      5.013928\n",
      "max    30.327375   169.000000  640.000000  640.000000      5.664804\n",
      "             fps  frame_count  width  height  duration_sec\n",
      "count  52.000000    52.000000   52.0    52.0     52.000000\n",
      "mean   29.986577   150.000000  640.0   480.0      5.002293\n",
      "std     0.116127     0.485071    0.0     0.0      0.021016\n",
      "min    29.771553   149.000000  640.0   480.0      4.966000\n",
      "25%    29.970030   150.000000  640.0   480.0      5.000000\n",
      "50%    30.000000   150.000000  640.0   480.0      5.000000\n",
      "75%    30.000000   150.000000  640.0   480.0      5.007232\n",
      "max    30.327375   151.000000  640.0   480.0      5.066667\n",
      "vids are copied\n"
     ]
    }
   ],
   "source": [
    "folder_with_videos = \"D:\\\\Projects\\\\fit_project\\\\videos_from_server_and_mp4\\\\test_videos\"\n",
    "dest_folder = \"clenaed_test_videos\"\n",
    "get_cleaned_videos(folder_with_videos, dest_folder, q1= 0.7, q3 = 0.93, is_test_run=False)"
   ]
  },
  {
   "cell_type": "code",
   "execution_count": null,
   "metadata": {},
   "outputs": [],
   "source": []
  },
  {
   "cell_type": "code",
   "execution_count": null,
   "metadata": {},
   "outputs": [],
   "source": [
    "import pandas as pd"
   ]
  },
  {
   "cell_type": "code",
   "execution_count": null,
   "metadata": {},
   "outputs": [],
   "source": [
    "df = pd.read_csv(\"keypoint_Iinitial.csv\")"
   ]
  },
  {
   "cell_type": "code",
   "execution_count": null,
   "metadata": {},
   "outputs": [],
   "source": [
    "df.head()"
   ]
  },
  {
   "cell_type": "code",
   "execution_count": null,
   "metadata": {},
   "outputs": [],
   "source": []
  }
 ],
 "metadata": {
  "kernelspec": {
   "display_name": ".venv",
   "language": "python",
   "name": "python3"
  },
  "language_info": {
   "codemirror_mode": {
    "name": "ipython",
    "version": 3
   },
   "file_extension": ".py",
   "mimetype": "text/x-python",
   "name": "python",
   "nbconvert_exporter": "python",
   "pygments_lexer": "ipython3",
   "version": "3.10.11"
  }
 },
 "nbformat": 4,
 "nbformat_minor": 2
}
